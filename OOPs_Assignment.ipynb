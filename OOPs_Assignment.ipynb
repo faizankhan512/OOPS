{
  "nbformat": 4,
  "nbformat_minor": 0,
  "metadata": {
    "colab": {
      "provenance": []
    },
    "kernelspec": {
      "name": "python3",
      "display_name": "Python 3"
    },
    "language_info": {
      "name": "python"
    }
  },
  "cells": [
    {
      "cell_type": "markdown",
      "source": [
        "1.What is Object-Oriented Programming(OOP)?\n",
        "\n",
        "-> OOP is a programming paradigm based on the concept of \"objects,\" which are instances of classes. It organizes code into reusable structures called classes, and each object can have properties (attributes) and methods (functions).\n",
        "\n",
        " The core principles of OOP are:\n",
        "\n",
        "Encapsulation: Bundling data and methods into a single unit (class).\n",
        "\n",
        "Abstraction: Hiding complex implementation details and exposing only essential features.\n",
        "\n",
        "Inheritance: A class can inherit attributes and methods from another class.\n",
        "\n",
        "Polymorphism: The ability for different objects to respond to the same method in different ways."
      ],
      "metadata": {
        "id": "wpJ9Qwh2lqfK"
      }
    },
    {
      "cell_type": "markdown",
      "source": [
        "2.What is a class in OOP?\n",
        "\n",
        "->A class is a blueprint or template for creating objects. It defines attributes (variables) and methods (functions) that the objects created from the class will have. A class serves as the structure for creating instances, or objects."
      ],
      "metadata": {
        "id": "vyqUC0FjlqbI"
      }
    },
    {
      "cell_type": "markdown",
      "source": [
        "3.What is an object in OOP?\n",
        "\n",
        "->An object is an instance of a class. It is a real-world entity created based on the class template and can have its own unique set of attributes and methods."
      ],
      "metadata": {
        "id": "mXxNGdU-lqXH"
      }
    },
    {
      "cell_type": "markdown",
      "source": [
        "4.What is the difference between abstraction and encapsulation?\n",
        "\n",
        "->Abstraction is the concept of hiding the complex implementation details and exposing only the essential features of an object. It focuses on \"what\" an object does.\n",
        "\n",
        "Encapsulation involves bundling the data (attributes) and the methods (functions) that operate on the data into a single unit (class). It restricts access to some of the object’s components, usually by using private or protected access modifiers."
      ],
      "metadata": {
        "id": "vM-El9bTlqSc"
      }
    },
    {
      "cell_type": "markdown",
      "source": [
        "5.What are dunder methods in Python?\n",
        "\n",
        "->Dunder methods (short for \"double underscore\") are special methods in Python that begin and end with double underscores (__). They allow custom behavior for built-in Python operations, like __init__ (constructor), __str__ (string representation), __add__ (addition operator), and more."
      ],
      "metadata": {
        "id": "KMNUYcxqlqMZ"
      }
    },
    {
      "cell_type": "markdown",
      "source": [
        "6.Explain the concept of inheritance in OOP?\n",
        "\n",
        "->Inheritance allows a class (child class) to inherit attributes and methods from another class (parent class). This promotes code reuse and establishes a hierarchy between classes."
      ],
      "metadata": {
        "id": "euV4CtqylqGb"
      }
    },
    {
      "cell_type": "markdown",
      "source": [
        "7.What is polymorphism in OOP?\n",
        "\n",
        "->Polymorphism means the ability to present the same interface for different data types. In OOP, it allows different classes to be treated as instances of the same class through a common interface, typically by overriding methods."
      ],
      "metadata": {
        "id": "RLDmhmgKlqDW"
      }
    },
    {
      "cell_type": "markdown",
      "source": [
        "8.How is encapsulation achieved in Python?\n",
        "\n",
        "->Encapsulation in Python is achieved by defining classes and restricting access to certain parts of an object (attributes or methods) using private (__) or protected (_) access modifiers."
      ],
      "metadata": {
        "id": "EkEVYCtFlqAT"
      }
    },
    {
      "cell_type": "markdown",
      "source": [
        "9.What is a constructor in Python?\n",
        "\n",
        "->A constructor is a special method __init__ in Python that is called when a new object (instance) of a class is created. It initializes the object's attributes."
      ],
      "metadata": {
        "id": "0lDd47c2lp9G"
      }
    },
    {
      "cell_type": "markdown",
      "source": [
        "10.What are class and static methods in Python?\n",
        "\n",
        "->Class method: A method that is bound to the class rather than an instance. It takes cls as its first parameter. It is defined using @classmethod.\n",
        "\n",
        "Static method: A method that does not take self or cls as its first parameter. It does not depend on instance or class. It is defined using @staticmethod."
      ],
      "metadata": {
        "id": "aiJPsmLclp5g"
      }
    },
    {
      "cell_type": "markdown",
      "source": [
        "11.What is method overloading in Python?\n",
        "\n",
        "->Method overloading is the ability to define multiple methods with the same name but with different parameters. Python does not support traditional method overloading but allows achieving similar behavior using default arguments or variable-length arguments."
      ],
      "metadata": {
        "id": "9spnAtjRlp1r"
      }
    },
    {
      "cell_type": "markdown",
      "source": [
        "12.What is method overriding in OOP?\n",
        "\n",
        "->Method overriding occurs when a subclass provides a specific implementation of a method that is already defined in its superclass. The method in the subclass replaces the one in the superclass."
      ],
      "metadata": {
        "id": "xRqTIY54lpxb"
      }
    },
    {
      "cell_type": "markdown",
      "source": [
        "13.What is a property decorator in Python?\n",
        "\n",
        "->The @property decorator in Python is used to define a method as a property. It allows you to define getter, setter, and deleter methods for an attribute without directly accessing it.\n"
      ],
      "metadata": {
        "id": "3p5lI7mDlptT"
      }
    },
    {
      "cell_type": "markdown",
      "source": [
        "14.Why is polymorphism important in OOP?\n",
        "\n",
        "->Polymorphism allows for flexibility and scalability in code. It allows different objects to be treated uniformly while maintaining their individual behaviors. This makes it easier to extend the codebase and work with new object types without modifying existing code."
      ],
      "metadata": {
        "id": "D1RNVBOolppt"
      }
    },
    {
      "cell_type": "markdown",
      "source": [
        "15.What is an abstract class in Python?\n",
        "\n",
        "->An abstract class is a class that cannot be instantiated directly. It can have abstract methods (methods without implementation) that must be implemented by any subclass. It is defined using the abc module in Python."
      ],
      "metadata": {
        "id": "mHwBDgHylphi"
      }
    },
    {
      "cell_type": "markdown",
      "source": [
        "16.What are the advantages of OOP?\n",
        "\n",
        "->Modularity: Code is organized into distinct classes and objects.\n",
        "\n",
        "Reusability: Inheritance allows code reuse.\n",
        "\n",
        "Maintainability: Easier to manage and update code.\n",
        "\n",
        "Flexibility: Polymorphism allows flexibility in code design."
      ],
      "metadata": {
        "id": "snOofkG2lpR4"
      }
    },
    {
      "cell_type": "markdown",
      "source": [
        "17.What is the difference between a class variable and an instance variable?\n",
        "\n",
        "->Class variable: A variable that is shared by all instances of a class. It is defined within the class but outside of any methods.\n",
        "\n",
        "Instance variable: A variable that is specific to each instance (object) of the class. It is defined inside the __init__ method."
      ],
      "metadata": {
        "id": "sPCJZr2coSfl"
      }
    },
    {
      "cell_type": "markdown",
      "source": [
        "18.What is multiple inheritance in Python?\n",
        "\n",
        "->Multiple inheritance occurs when a class inherits from more than one class. Python supports multiple inheritance, allowing a class to inherit attributes and methods from multiple parent classes."
      ],
      "metadata": {
        "id": "DfFLkxF2oTwK"
      }
    },
    {
      "cell_type": "markdown",
      "source": [
        "19.Explain the purpose of ‘’__str__’ and ‘__repr__’ ‘ methods in Python?\n",
        "\n",
        "->__str__: Defines the string representation of an object for end-user display.\n",
        "\n",
        "__repr__: Defines a more formal string representation, typically used for debugging. It should ideally return a string that can be used to recreate the object."
      ],
      "metadata": {
        "id": "TnsjJJEloT0B"
      }
    },
    {
      "cell_type": "markdown",
      "source": [
        "20.What is the significance of the ‘super()’ function in Python?\n",
        "\n",
        "->super() is used to call a method from a parent class. It is commonly used in method overriding to invoke the parent class’s method and extend its functionality."
      ],
      "metadata": {
        "id": "HvkZseiWoT49"
      }
    },
    {
      "cell_type": "markdown",
      "source": [
        "21.What is the significance of the __del__ method in Python?\n",
        "\n",
        "->The __del__ method is called when an object is about to be destroyed. It is used to release resources or perform cleanup tasks."
      ],
      "metadata": {
        "id": "Oy_2fi5GoT8o"
      }
    },
    {
      "cell_type": "markdown",
      "source": [
        "22.What is the difference between @staticmethod and @classmethod in Python?\n",
        "\n",
        "->@staticmethod: A static method does not take self or cls as parameters. It behaves like a regular function but is part of the class's namespace.\n",
        "\n",
        "@classmethod: A class method takes cls as its first parameter and can modify class-level variables. It is bound to the class and not an instance."
      ],
      "metadata": {
        "id": "l4lwcjN0oT_x"
      }
    },
    {
      "cell_type": "markdown",
      "source": [
        "23.How does polymorphism work in Python with inheritance?\n",
        "\n",
        "->Polymorphism in Python, when combined with inheritance, allows objects of different classes to be treated as instances of the same class through a common interface. It enables different classes to define methods that share the same name but can have different implementations."
      ],
      "metadata": {
        "id": "Wu7T6wgaoUC8"
      }
    },
    {
      "cell_type": "markdown",
      "source": [
        "24.What is method chaining in Python OOP?\n",
        "\n",
        "->Method chaining is a technique where multiple methods are called on the same object, one after the other, in a single line of code. This is possible when each method returns the object itself (or self) so that another method can be called on that object."
      ],
      "metadata": {
        "id": "jiysduHnoUHE"
      }
    },
    {
      "cell_type": "markdown",
      "source": [
        "25.What is the purpose of the __call__ method in Python?\n",
        "\n",
        "->The __call__ method in Python allows an instance of a class to be called like a function. When you define __call__ in a class, you can invoke an instance of that class as if it were a function, passing arguments to it.\n",
        "\n",
        "The primary purpose of the __call__ method is to make an object callable, providing a way to define behavior when the object is \"called.\""
      ],
      "metadata": {
        "id": "B5txjgnRoUPF"
      }
    },
    {
      "cell_type": "code",
      "source": [
        "#1. Create a parent class Animal with a method speak() that prints a generic\n",
        "# message. Create a child class Dog that overrides the speak() method to print\n",
        "# \"Bark!\".\n",
        "\n",
        "class Animal:\n",
        "    def speak(self):\n",
        "        print(\"Animal makes a sound\")\n",
        "class Dog(Animal):\n",
        "    def speak(self):\n",
        "        print(\"Bark!\")\n",
        "\n",
        "dog = Dog()\n",
        "dog.speak()"
      ],
      "metadata": {
        "colab": {
          "base_uri": "https://localhost:8080/"
        },
        "id": "Vutr9TRSpz8E",
        "outputId": "48486278-9248-406c-cef9-9a8045e387eb"
      },
      "execution_count": 1,
      "outputs": [
        {
          "output_type": "stream",
          "name": "stdout",
          "text": [
            "Bark!\n"
          ]
        }
      ]
    },
    {
      "cell_type": "code",
      "source": [
        "#2.\n",
        "\n",
        "from abc import ABC, abstractmethod\n",
        "import math\n",
        "\n",
        "class Shape(ABC):\n",
        "    @abstractmethod\n",
        "    def area(self):\n",
        "        pass\n",
        "\n",
        "class Circle(Shape):\n",
        "    def __init__(self, radius):\n",
        "        self.radius = radius\n",
        "\n",
        "    def area(self):\n",
        "       return math.pi * self.radius ** 2\n",
        "\n",
        "class Rectangle(Shape):\n",
        "    def __init__(self, width, height):\n",
        "        self.width = width\n",
        "        self.height = height\n",
        "\n",
        "    def area(self):\n",
        "        return self.width * self.height\n",
        "\n",
        "\n",
        "circle = Circle(5)\n",
        "rectangle = Rectangle(4, 6)\n",
        "\n",
        "print(f\"Circle area: {circle.area()}\")\n",
        "print(f\"Rectangle area: {rectangle.area()}\")"
      ],
      "metadata": {
        "colab": {
          "base_uri": "https://localhost:8080/"
        },
        "id": "cCe4KPbTpz09",
        "outputId": "a1d5f3f1-5113-438c-f4bf-63132e610772"
      },
      "execution_count": 2,
      "outputs": [
        {
          "output_type": "stream",
          "name": "stdout",
          "text": [
            "Circle area: 78.53981633974483\n",
            "Rectangle area: 24\n"
          ]
        }
      ]
    },
    {
      "cell_type": "code",
      "source": [
        "#3.\n",
        "\n",
        "class Vehicle:\n",
        "    def __init__(self, type_of_vehicle):\n",
        "        self.type = type_of_vehicle\n",
        "\n",
        "class Car(Vehicle):\n",
        "    def __init__(self, type_of_vehicle, model):\n",
        "        super().__init__(type_of_vehicle)\n",
        "        self.model = model\n",
        "\n",
        "class ElectricCar(Car):\n",
        "    def __init__(self, type_of_vehicle, model, battery_capacity):\n",
        "        super().__init__(type_of_vehicle, model)\n",
        "        self.battery_capacity = battery_capacity\n",
        "electric_car = ElectricCar(\"Electric\", \"Tesla Model 3\", \"75 kWh\")\n",
        "print(f\"Type: {electric_car.type}, Model: {electric_car.model}, Battery Capacity: {electric_car.battery_capacity}\")"
      ],
      "metadata": {
        "colab": {
          "base_uri": "https://localhost:8080/"
        },
        "id": "yhqvkZcmq8JU",
        "outputId": "8d00461e-f752-45bf-dc3f-1287ba11cdfe"
      },
      "execution_count": 3,
      "outputs": [
        {
          "output_type": "stream",
          "name": "stdout",
          "text": [
            "Type: Electric, Model: Tesla Model 3, Battery Capacity: 75 kWh\n"
          ]
        }
      ]
    },
    {
      "cell_type": "code",
      "source": [
        "#4.\n",
        "\n",
        "class Bird:\n",
        "    def fly(self):\n",
        "        print(\"Bird is flying\")\n",
        "\n",
        "class Sparrow(Bird):\n",
        "    def fly(self):\n",
        "        print(\"Sparrow is flying\")\n",
        "\n",
        "class Penguin(Bird):\n",
        "    def fly(self):\n",
        "        print(\"Penguin can't fly\")\n",
        "\n",
        "bird = Bird()\n",
        "sparrow = Sparrow()\n",
        "penguin = Penguin()\n",
        "\n",
        "bird.fly()\n",
        "sparrow.fly()\n",
        "penguin.fly()"
      ],
      "metadata": {
        "colab": {
          "base_uri": "https://localhost:8080/"
        },
        "id": "atf9F7GAq8XX",
        "outputId": "197fedbe-4b90-4c16-e817-fd91e09400b5"
      },
      "execution_count": 5,
      "outputs": [
        {
          "output_type": "stream",
          "name": "stdout",
          "text": [
            "Bird is flying\n",
            "Sparrow is flying\n",
            "Penguin can't fly\n"
          ]
        }
      ]
    },
    {
      "cell_type": "code",
      "source": [
        "#6."
      ],
      "metadata": {
        "id": "NyPUUjYwq8gp"
      },
      "execution_count": 6,
      "outputs": []
    },
    {
      "cell_type": "code",
      "source": [
        "#7."
      ],
      "metadata": {
        "id": "mSi-YnDfrs0f"
      },
      "execution_count": 7,
      "outputs": []
    },
    {
      "cell_type": "code",
      "source": [
        "#10.\n",
        "\n",
        "\n",
        "class Vector:\n",
        "    def __init__(self, x, y):\n",
        "        self.x = x\n",
        "        self.y = y\n",
        "\n",
        "\n",
        "    def __add__(self, other):\n",
        "        return Vector(self.x + other.x, self.y + other.y)\n",
        "\n",
        "    def __str__(self):\n",
        "        return f\"({self.x}, {self.y})\"\n",
        "\n",
        "v1 = Vector(2, 3)\n",
        "v2 = Vector(4, 1)\n",
        "\n",
        "sum = v1 + v2\n",
        "\n",
        "\n",
        "print(sum)"
      ],
      "metadata": {
        "colab": {
          "base_uri": "https://localhost:8080/"
        },
        "id": "vNCq3zh2ruAf",
        "outputId": "b65efdc4-c58a-44f5-fec9-65696abc1bee"
      },
      "execution_count": 9,
      "outputs": [
        {
          "output_type": "stream",
          "name": "stdout",
          "text": [
            "(6, 4)\n"
          ]
        }
      ]
    },
    {
      "cell_type": "code",
      "source": [
        "#11.\n",
        "\n",
        "class Person:\n",
        "    def __init__(self, name, age):\n",
        "        self.name = name\n",
        "        self.age = age\n",
        "\n",
        "    def greet(self):\n",
        "        print(f\"Hello, my name is {self.name} and I am {self.age} years old.\")\n",
        "\n",
        "person = Person(\"Alice\", 30)\n",
        "\n",
        "person.greet()"
      ],
      "metadata": {
        "colab": {
          "base_uri": "https://localhost:8080/"
        },
        "id": "wXEz1DA5sGBe",
        "outputId": "02883264-d321-4840-ecad-4b59d86e2e53"
      },
      "execution_count": 10,
      "outputs": [
        {
          "output_type": "stream",
          "name": "stdout",
          "text": [
            "Hello, my name is Alice and I am 30 years old.\n"
          ]
        }
      ]
    },
    {
      "cell_type": "code",
      "source": [
        "#13.\n",
        "\n",
        "class Rectangle:\n",
        "    def __init__(self, width=0, height=0):\n",
        "        self.width = width\n",
        "        self.height = height\n",
        "\n",
        "    def set_dimensions(self, width, height):\n",
        "        self.width = width\n",
        "        self.height = height\n",
        "\n",
        "    def area(self):\n",
        "        return self.width * self.height\n",
        "\n",
        "\n",
        "rectangle = Rectangle()\n",
        "\n",
        "rectangle.set_dimensions(4, 6)\n",
        "print(f\"Area of rectangle: {rectangle.area()}\")"
      ],
      "metadata": {
        "colab": {
          "base_uri": "https://localhost:8080/"
        },
        "id": "SM-rluEesN0g",
        "outputId": "4d9635dd-cdf6-4e6e-fca4-22f4d50b6b94"
      },
      "execution_count": 12,
      "outputs": [
        {
          "output_type": "stream",
          "name": "stdout",
          "text": [
            "Area of rectangle: 24\n"
          ]
        }
      ]
    },
    {
      "cell_type": "code",
      "source": [
        "#15.\n",
        "\n",
        "class Product:\n",
        "    def __init__(self, name, price, quantity):\n",
        "        self.name = name\n",
        "        self.price = price\n",
        "        self.quantity = quantity\n",
        "\n",
        "    def total_price(self):\n",
        "        return self.price * self.quantity\n",
        "\n",
        "product = Product(\"Laptop\", 1200, 3)\n",
        "print(f\"Total price of {product.name}: ${product.total_price()}\")"
      ],
      "metadata": {
        "colab": {
          "base_uri": "https://localhost:8080/"
        },
        "id": "Ty4bStcPsVHO",
        "outputId": "4b6bb474-40b8-455e-d4f8-4885a7f09161"
      },
      "execution_count": 13,
      "outputs": [
        {
          "output_type": "stream",
          "name": "stdout",
          "text": [
            "Total price of Laptop: $3600\n"
          ]
        }
      ]
    },
    {
      "cell_type": "code",
      "source": [
        "#17.\n",
        "\n",
        "class Book:\n",
        "    def __init__(self, title, author, year_published):\n",
        "        self.title = title\n",
        "        self.author = author\n",
        "        self.year_published = year_published\n",
        "\n",
        "    def get_book_info(self):\n",
        "        return f\"Title: {self.title}, Author: {self.author}, Year Published: {self.year_published}\"\n",
        "\n",
        "book = Book(\"1984\", \"George Orwell\", 1949)\n",
        "\n",
        "print(book.get_book_info())"
      ],
      "metadata": {
        "colab": {
          "base_uri": "https://localhost:8080/"
        },
        "id": "8-j9zhu-swc7",
        "outputId": "7061c35a-ed9d-4a5f-d8c8-1592f28cd6ce"
      },
      "execution_count": 14,
      "outputs": [
        {
          "output_type": "stream",
          "name": "stdout",
          "text": [
            "Title: 1984, Author: George Orwell, Year Published: 1949\n"
          ]
        }
      ]
    },
    {
      "cell_type": "code",
      "source": [
        "#18.\n",
        "\n",
        "class House:\n",
        "    def __init__(self, address, price):\n",
        "        self.address = address\n",
        "        self.price = price\n",
        "\n",
        "class Mansion(House):\n",
        "    def __init__(self, address, price, number_of_rooms):\n",
        "        super().__init__(address, price)\n",
        "        self.number_of_rooms = number_of_rooms\n",
        "\n",
        "mansion = Mansion(\"123 Luxury St, Beverly Hills\", 5000000, 10)\n",
        "\n",
        "print(f\"Address: {mansion.address}, Price: ${mansion.price}, Rooms: {mansion.number_of_rooms}\")"
      ],
      "metadata": {
        "colab": {
          "base_uri": "https://localhost:8080/"
        },
        "id": "XgSsJq43s4mg",
        "outputId": "a74c25cb-6a63-4d65-975e-f840a0d556ef"
      },
      "execution_count": 15,
      "outputs": [
        {
          "output_type": "stream",
          "name": "stdout",
          "text": [
            "Address: 123 Luxury St, Beverly Hills, Price: $5000000, Rooms: 10\n"
          ]
        }
      ]
    },
    {
      "cell_type": "code",
      "source": [],
      "metadata": {
        "id": "Aii9RxgEtCW7"
      },
      "execution_count": null,
      "outputs": []
    }
  ]
}